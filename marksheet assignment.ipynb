{
 "cells": [
  {
   "cell_type": "code",
   "execution_count": 1,
   "metadata": {},
   "outputs": [
    {
     "name": "stdout",
     "output_type": "stream",
     "text": [
      " OFFICIAL PIAIC MARKSHEET ASSIGNMENT\n",
      "Enter your name: Bariz\n",
      "Enter your marks in Maths: 70\n",
      "Enter your marks in Chemistry: 85\n",
      "Enter your marks in Physics: 89\n",
      "Enter your marks in Sindhi: 75\n",
      "Enter your marks in Computer Science: 86\n",
      "405 /500\n",
      "Your percentage is 81.0 %\n",
      "Grade A1\n"
     ]
    }
   ],
   "source": [
    "print(\" OFFICIAL PIAIC MARKSHEET ASSIGNMENT\")\n",
    "name=input(\"Enter your name: \")\n",
    "math=int(input(\"Enter your marks in Maths: \"))\n",
    "che=int(input(\"Enter your marks in Chemistry: \"))\n",
    "phy=int(input(\"Enter your marks in Physics: \"))\n",
    "sindhi=int(input(\"Enter your marks in Sindhi: \"))\n",
    "comp_sci=int(input(\"Enter your marks in Computer Science: \"))\n",
    "total=math+che+phy+sindhi+comp_sci\n",
    "print(total,'/500')\n",
    "per=float((math+che+phy+sindhi+comp_sci)/500)*100\n",
    "print(\"Your percentage is\",per,\"%\")\n",
    "avg=(total/5)\n",
    "if avg>=80 and avg<=100:\n",
    "    print(\"Grade A1\")\n",
    "elif avg>=70 and avg<=80:\n",
    "    print(\"Grade A\")\n",
    "elif avg>=60 and avg<=70:\n",
    "    print(\"Grade B\")\n",
    "elif avg>=50 and avg<=60:\n",
    "    print(\"Grade C\")\n",
    "else:\n",
    "    print(\"You are fail\")\n"
   ]
  },
  {
   "cell_type": "code",
   "execution_count": null,
   "metadata": {},
   "outputs": [],
   "source": []
  }
 ],
 "metadata": {
  "kernelspec": {
   "display_name": "Python 3",
   "language": "python",
   "name": "python3"
  },
  "language_info": {
   "codemirror_mode": {
    "name": "ipython",
    "version": 3
   },
   "file_extension": ".py",
   "mimetype": "text/x-python",
   "name": "python",
   "nbconvert_exporter": "python",
   "pygments_lexer": "ipython3",
   "version": "3.7.3"
  }
 },
 "nbformat": 4,
 "nbformat_minor": 2
}
